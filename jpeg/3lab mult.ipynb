{
 "cells": [
  {
   "cell_type": "code",
   "execution_count": 5,
   "metadata": {
    "collapsed": true
   },
   "outputs": [],
   "source": [
    "import cv2\n",
    "import numpy as np\n",
    "import math"
   ]
  },
  {
   "cell_type": "code",
   "execution_count": null,
   "metadata": {
    "collapsed": true
   },
   "outputs": [],
   "source": [
    "def get_run_length_encoding(image):\n",
    "    i = 0\n",
    "    skip = 0\n",
    "    stream = []    \n",
    "    bitstream = \"\"\n",
    "    image = image.astype(int)\n",
    "    while i < image.shape[0]:\n",
    "        if image[i] != 0:            \n",
    "            stream.append((image[i],skip))\n",
    "            bitstream = bitstream + str(image[i])+ \" \" +str(skip)+ \" \"\n",
    "            skip = 0\n",
    "        else:\n",
    "            skip = skip + 1\n",
    "        i = i + 1\n",
    "\n",
    "    return bitstream\n",
    "\n",
    "# Размер блоков\n",
    "block_size = 8\n",
    "\n",
    "# Матрциа Квантования\n",
    "QUANTIZATION_MAT = np.array([[16,11,10,16,24,40,51,61],[12,12,14,19,26,58,60,55],[14,13,16,24,40,57,69,56 ],[14,17,22,29,51,87,80,62],[18,22,37,56,68,109,103,77],[24,35,55,64,81,104,113,92],[49,64,78,87,103,121,120,101],[72,92,95,98,112,100,103,99]])\n",
    "\n",
    "\n",
    "img = cv2.imread('14.jpg', cv2.IMREAD_GRAYSCALE)\n",
    "\n",
    "[h , w] = img.shape\n",
    "height = h\n",
    "width = w\n",
    "h = np.float32(h) \n",
    "w = np.float32(w) \n",
    "\n",
    "nbh = math.ceil(h/block_size)\n",
    "nbh = np.int32(nbh)\n",
    "\n",
    "nbw = math.ceil(w/block_size)\n",
    "nbw = np.int32(nbw)"
   ]
  },
  {
   "cell_type": "code",
   "execution_count": null,
   "metadata": {
    "collapsed": true
   },
   "outputs": [],
   "source": [
    "# Подстраиваем размер изображения под выбранный размер блоков, дабы избежать проблем т.к может не делиться\n",
    "\n",
    "H =  block_size * nbh\n",
    "\n",
    "W =  block_size * nbw\n",
    "\n",
    "padded_img = np.zeros((H,W))\n",
    "\n",
    "padded_img[0:height,0:width] = img[0:height,0:width]\n",
    "\n",
    "cv2.imwrite('uncompressed.jpg', np.uint8(padded_img))\n",
    "\n",
    "\n",
    "# Начинаем делить изображение на блоки, и применяем коэффиценты матрицы в зиг-заг порядке\n",
    "for i in range(nbh):\n",
    "        row_ind_1 = i*block_size                \n",
    "        row_ind_2 = row_ind_1+block_size\n",
    "        \n",
    "        for j in range(nbw):\n",
    "            col_ind_1 = j*block_size                       \n",
    "            col_ind_2 = col_ind_1+block_size\n",
    "                        \n",
    "            block = padded_img[ row_ind_1 : row_ind_2 , col_ind_1 : col_ind_2 ]                      \n",
    "            DCT = cv2.dct(block)            \n",
    "            DCT_normalized = np.divide(DCT,QUANTIZATION_MAT).astype(int)            \n",
    "            reordered = zigzag(DCT_normalized)\n",
    "            reshaped= np.reshape(reordered, (block_size, block_size)) \n",
    "            padded_img[row_ind_1 : row_ind_2 , col_ind_1 : col_ind_2] = reshaped                        \n",
    "\n",
    "cv2.imshow('encoded image', np.uint8(padded_img))\n",
    "\n",
    "arranged = padded_img.flatten()\n",
    "\n",
    "# записываем все в тхт файл, чтобы можно было бы раскодировать в дальнейшем\n",
    "bitstream = get_run_length_encoding(arranged)\n",
    "\n",
    "bitstream = str(padded_img.shape[0]) + \" \" + str(padded_img.shape[1]) + \" \" + bitstream + \";\"\n",
    "\n",
    "file1 = open(\"image.txt\",\"w\")\n",
    "file1.write(bitstream)\n",
    "file1.close()\n",
    "\n",
    "cv2.waitKey(0)\n",
    "cv2.destroyAllWindows()"
   ]
  },
  {
   "cell_type": "code",
   "execution_count": 7,
   "metadata": {
    "collapsed": true
   },
   "outputs": [],
   "source": [
    "\n"
   ]
  },
  {
   "cell_type": "code",
   "execution_count": 8,
   "metadata": {},
   "outputs": [
    {
     "data": {
      "text/plain": [
       "True"
      ]
     },
     "execution_count": 8,
     "metadata": {},
     "output_type": "execute_result"
    }
   ],
   "source": [
    "#декодинг\n",
    "QUANTIZATION_MAT = np.array([[16,11,10,16,24,40,51,61],[12,12,14,19,26,58,60,55],[14,13,16,24,40,57,69,56 ],[14,17,22,29,51,87,80,62],[18,22,37,56,68,109,103,77],[24,35,55,64,81,104,113,92],[49,64,78,87,103,121,120,101],[72,92,95,98,112,100,103,99]])\n",
    "block_size = 8\n",
    "# читаем наш тхт файл\n",
    "with open('image.txt', 'r') as myfile:\n",
    "    image=myfile.read()\n",
    "details = image.split()\n",
    "h = int(''.join(filter(str.isdigit, details[0])))\n",
    "w = int(''.join(filter(str.isdigit, details[1])))\n",
    "array = np.zeros(h*w).astype(int)\n",
    "\n",
    "k = 0\n",
    "i = 2\n",
    "x = 0\n",
    "j = 0"
   ]
  },
  {
   "cell_type": "code",
   "execution_count": null,
   "metadata": {
    "collapsed": true
   },
   "outputs": [],
   "source": [
    "# Новый размер изображения\n",
    "\n",
    "while k < array.shape[0]:\n",
    "    if(details[i] == ';'):\n",
    "        break\n",
    "    if \"-\" not in details[i]:\n",
    "        array[k] = int(''.join(filter(str.isdigit, details[i])))        \n",
    "    else:\n",
    "        array[k] = -1*int(''.join(filter(str.isdigit, details[i])))        \n",
    "    if(i+3 < len(details)):\n",
    "        j = int(''.join(filter(str.isdigit, details[i+3])))\n",
    "    if j == 0:\n",
    "        k = k + 1\n",
    "    else:                \n",
    "        k = k + j + 1        \n",
    "    i = i + 2\n",
    "array = np.reshape(array,(h,w))\n",
    "i = 0\n",
    "j = 0\n",
    "k = 0\n",
    "padded_img = np.zeros((h,w))\n",
    "\n",
    "while i < h:\n",
    "    j = 0\n",
    "    while j < w:        \n",
    "        temp_stream = array[i:i+8,j:j+8]                \n",
    "        block = inverse_zigzag(temp_stream.flatten(), int(block_size),int(block_size))            \n",
    "        de_quantized = np.multiply(block,QUANTIZATION_MAT)                \n",
    "        padded_img[i:i+8,j:j+8] = cv2.idct(de_quantized)        \n",
    "        j = j + 8        \n",
    "    i = i + 8\n",
    "\n",
    "# 8бит\n",
    "padded_img[padded_img > 255] = 255\n",
    "padded_img[padded_img < 0] = 0\n",
    "cv2.imwrite(\"compressed_image.jpg\",np.uint8(padded_img))\n"
   ]
  },
  {
   "cell_type": "code",
   "execution_count": 9,
   "metadata": {
    "collapsed": true
   },
   "outputs": [],
   "source": [
    "def entropy(img):\n",
    "    frcy = np.array([0 for i in range(256)])\n",
    "    for row in img:\n",
    "        for px in row:\n",
    "            frcy[px] += 1\n",
    "            \n",
    "    n = len(img) * len(img[0])\n",
    "    frcy = frcy / n\n",
    "    ent = -np.sum([p * np.log2(p) for p in frcy if p != 0])\n",
    "    return ent\n",
    "def psnr(img1, img2):\n",
    "    rmse = np.sqrt(np.sum(np.power(img1 - img2, 2)) / img1.shape[0] / img1.shape[1])\n",
    "    if rmse == 0:\n",
    "        return 100\n",
    "    pxmax = 255.0\n",
    "    return 20 * math.log10(pxmax / math.sqrt(rmse))"
   ]
  },
  {
   "cell_type": "code",
   "execution_count": 10,
   "metadata": {},
   "outputs": [
    {
     "data": {
      "text/plain": [
       "7.634483223644974"
      ]
     },
     "execution_count": 10,
     "metadata": {},
     "output_type": "execute_result"
    }
   ],
   "source": [
    "a = cv2.imread('14.jpg')\n",
    "c = np.uint8(padded_img)\n",
    "entropy(a)"
   ]
  },
  {
   "cell_type": "code",
   "execution_count": 11,
   "metadata": {},
   "outputs": [
    {
     "data": {
      "text/plain": [
       "7.634483223644974"
      ]
     },
     "execution_count": 11,
     "metadata": {},
     "output_type": "execute_result"
    }
   ],
   "source": [
    "entropy(a) # исходник"
   ]
  },
  {
   "cell_type": "code",
   "execution_count": 12,
   "metadata": {},
   "outputs": [
    {
     "data": {
      "text/plain": [
       "7.5159972039605698"
      ]
     },
     "execution_count": 12,
     "metadata": {},
     "output_type": "execute_result"
    }
   ],
   "source": [
    "entropy(c) # итог"
   ]
  },
  {
   "cell_type": "code",
   "execution_count": 26,
   "metadata": {},
   "outputs": [
    {
     "data": {
      "text/plain": [
       "42.39518804707859"
      ]
     },
     "execution_count": 26,
     "metadata": {},
     "output_type": "execute_result"
    }
   ],
   "source": [
    "d = cv2.imread(\"compressed_image.jpg\")\n",
    "psnr(img, c) # сравниваем обработанный и исходный"
   ]
  },
  {
   "cell_type": "code",
   "execution_count": 25,
   "metadata": {},
   "outputs": [
    {
     "data": {
      "text/plain": [
       "40.010095149422035"
      ]
     },
     "execution_count": 25,
     "metadata": {},
     "output_type": "execute_result"
    }
   ],
   "source": [
    "psnr(a,d)# png сравниваем исходные и сохранившую"
   ]
  },
  {
   "cell_type": "code",
   "execution_count": null,
   "metadata": {},
   "outputs": [],
   "source": []
  },
  {
   "cell_type": "code",
   "execution_count": null,
   "metadata": {
    "collapsed": true
   },
   "outputs": [],
   "source": []
  },
  {
   "cell_type": "code",
   "execution_count": null,
   "metadata": {
    "collapsed": true
   },
   "outputs": [],
   "source": []
  },
  {
   "cell_type": "code",
   "execution_count": null,
   "metadata": {
    "collapsed": true
   },
   "outputs": [],
   "source": [
    "import numpy as np\n",
    "\n",
    "def zigzag(input):\n",
    "    #initializing the variables\n",
    "    #----------------------------------\n",
    "    h = 0\n",
    "    v = 0\n",
    "\n",
    "    vmin = 0\n",
    "    hmin = 0\n",
    "\n",
    "    vmax = input.shape[0]\n",
    "    hmax = input.shape[1]\n",
    "    \n",
    "    #print(vmax ,hmax )\n",
    "\n",
    "    i = 0\n",
    "\n",
    "    output = np.zeros(( vmax * hmax))\n",
    "    #----------------------------------\n",
    "\n",
    "    while ((v < vmax) and (h < hmax)):\n",
    "    \t\n",
    "        if ((h + v) % 2) == 0:                 # going up\n",
    "            \n",
    "            if (v == vmin):\n",
    "            \t#print(1)\n",
    "                output[i] = input[v, h]        # if we got to the first line\n",
    "\n",
    "                if (h == hmax):\n",
    "                    v = v + 1\n",
    "                else:\n",
    "                    h = h + 1                        \n",
    "\n",
    "                i = i + 1\n",
    "\n",
    "            elif ((h == hmax -1 ) and (v < vmax)):   # if we got to the last column\n",
    "            \t#print(2)\n",
    "            \toutput[i] = input[v, h] \n",
    "            \tv = v + 1\n",
    "            \ti = i + 1\n",
    "\n",
    "            elif ((v > vmin) and (h < hmax -1 )):    # all other cases\n",
    "            \t#print(3)\n",
    "            \toutput[i] = input[v, h] \n",
    "            \tv = v - 1\n",
    "            \th = h + 1\n",
    "            \ti = i + 1\n",
    "\n",
    "        \n",
    "        else:                                    # going down\n",
    "\n",
    "        \tif ((v == vmax -1) and (h <= hmax -1)):       # if we got to the last line\n",
    "        \t\t#print(4)\n",
    "        \t\toutput[i] = input[v, h] \n",
    "        \t\th = h + 1\n",
    "        \t\ti = i + 1\n",
    "        \n",
    "        \telif (h == hmin):                  # if we got to the first column\n",
    "        \t\t#print(5)\n",
    "        \t\toutput[i] = input[v, h] \n",
    "\n",
    "        \t\tif (v == vmax -1):\n",
    "        \t\t\th = h + 1\n",
    "        \t\telse:\n",
    "        \t\t\tv = v + 1\n",
    "\n",
    "        \t\ti = i + 1\n",
    "\n",
    "        \telif ((v < vmax -1) and (h > hmin)):     # all other cases\n",
    "        \t\t#print(6)\n",
    "        \t\toutput[i] = input[v, h] \n",
    "        \t\tv = v + 1\n",
    "        \t\th = h - 1\n",
    "        \t\ti = i + 1\n",
    "\n",
    "\n",
    "\n",
    "\n",
    "        if ((v == vmax-1) and (h == hmax-1)):          # bottom right element\n",
    "        \t#print(7)        \t\n",
    "        \toutput[i] = input[v, h] \n",
    "        \tbreak\n",
    "\n",
    "    #print ('v:',v,', h:',h,', i:',i)\n",
    "    return output\n",
    "\n",
    "\n",
    "\n",
    "\n",
    "# Inverse zigzag scan of a matrix\n",
    "# Arguments are: a 1-by-m*n array, \n",
    "# where m & n are vertical & horizontal sizes of an output matrix.\n",
    "# Function returns a two-dimensional matrix of defined sizes,\n",
    "# consisting of input array items gathered by a zigzag method.\n",
    "\n",
    "\n",
    "\n",
    "def inverse_zigzag(input, vmax, hmax):\n",
    "\t\n",
    "\t#print input.shape\n",
    "\n",
    "\t# initializing the variables\n",
    "\t#----------------------------------\n",
    "\th = 0\n",
    "\tv = 0\n",
    "\n",
    "\tvmin = 0\n",
    "\thmin = 0\n",
    "\n",
    "\toutput = np.zeros((vmax, hmax))\n",
    "\n",
    "\ti = 0\n",
    "    #----------------------------------\n",
    "\n",
    "\twhile ((v < vmax) and (h < hmax)): \n",
    "\t\t#print ('v:',v,', h:',h,', i:',i)   \t\n",
    "\t\tif ((h + v) % 2) == 0:                 # going up\n",
    "            \n",
    "\t\t\tif (v == vmin):\n",
    "\t\t\t\t#print(1)\n",
    "\t\t\t\t\n",
    "\t\t\t\toutput[v, h] = input[i]        # if we got to the first line\n",
    "\n",
    "\t\t\t\tif (h == hmax):\n",
    "\t\t\t\t\tv = v + 1\n",
    "\t\t\t\telse:\n",
    "\t\t\t\t\th = h + 1                        \n",
    "\n",
    "\t\t\t\ti = i + 1\n",
    "\n",
    "\t\t\telif ((h == hmax -1 ) and (v < vmax)):   # if we got to the last column\n",
    "\t\t\t\t#print(2)\n",
    "\t\t\t\toutput[v, h] = input[i] \n",
    "\t\t\t\tv = v + 1\n",
    "\t\t\t\ti = i + 1\n",
    "\n",
    "\t\t\telif ((v > vmin) and (h < hmax -1 )):    # all other cases\n",
    "\t\t\t\t#print(3)\n",
    "\t\t\t\toutput[v, h] = input[i] \n",
    "\t\t\t\tv = v - 1\n",
    "\t\t\t\th = h + 1\n",
    "\t\t\t\ti = i + 1\n",
    "\n",
    "        \n",
    "\t\telse:                                    # going down\n",
    "\n",
    "\t\t\tif ((v == vmax -1) and (h <= hmax -1)):       # if we got to the last line\n",
    "\t\t\t\t#print(4)\n",
    "\t\t\t\toutput[v, h] = input[i] \n",
    "\t\t\t\th = h + 1\n",
    "\t\t\t\ti = i + 1\n",
    "        \n",
    "\t\t\telif (h == hmin):                  # if we got to the first column\n",
    "\t\t\t\t#print(5)\n",
    "\t\t\t\toutput[v, h] = input[i] \n",
    "\t\t\t\tif (v == vmax -1):\n",
    "\t\t\t\t\th = h + 1\n",
    "\t\t\t\telse:\n",
    "\t\t\t\t\tv = v + 1\n",
    "\t\t\t\ti = i + 1\n",
    "        \t\t        \t\t\n",
    "\t\t\telif((v < vmax -1) and (h > hmin)):     # all other cases\n",
    "\t\t\t\toutput[v, h] = input[i] \n",
    "\t\t\t\tv = v + 1\n",
    "\t\t\t\th = h - 1\n",
    "\t\t\t\ti = i + 1\n",
    "\n",
    "\n",
    "\n",
    "\n",
    "\t\tif ((v == vmax-1) and (h == hmax-1)):          # bottom right element\n",
    "\t\t\t#print(7)        \t\n",
    "\t\t\toutput[v, h] = input[i] \n",
    "\t\t\tbreak\n",
    "\n",
    "\n",
    "\treturn output"
   ]
  }
 ],
 "metadata": {
  "kernelspec": {
   "display_name": "Python 3",
   "language": "python",
   "name": "python3"
  },
  "language_info": {
   "codemirror_mode": {
    "name": "ipython",
    "version": 3
   },
   "file_extension": ".py",
   "mimetype": "text/x-python",
   "name": "python",
   "nbconvert_exporter": "python",
   "pygments_lexer": "ipython3",
   "version": "3.6.3"
  }
 },
 "nbformat": 4,
 "nbformat_minor": 2
}
